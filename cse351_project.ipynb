{
 "cells": [
  {
   "cell_type": "code",
   "execution_count": 1,
   "metadata": {
    "id": "VDGIncCo7f3J"
   },
   "outputs": [],
   "source": [
    "# Imports and setup\n",
    "\n",
    "import pandas as pd\n",
    "from sklearn.experimental import enable_iterative_imputer\n",
    "from sklearn.impute import IterativeImputer\n",
    "from sklearn.preprocessing import StandardScaler\n",
    "from sklearn.model_selection import train_test_split, cross_val_score, GridSearchCV, StratifiedKFold\n",
    "from sklearn.metrics import precision_recall_fscore_support, make_scorer\n",
    "from sklearn.tree import DecisionTreeRegressor\n",
    "from sklearn.linear_model import LogisticRegression\n",
    "from sklearn.neighbors import KNeighborsClassifier\n",
    "from sklearn.neural_network import MLPClassifier\n",
    "import matplotlib.pyplot as plt\n",
    "import seaborn as sns\n",
    "import numpy as np"
   ]
  },
  {
   "cell_type": "code",
   "execution_count": 2,
   "metadata": {
    "colab": {
     "base_uri": "https://localhost:8080/",
     "height": 206
    },
    "id": "8U1PYJjMR490",
    "outputId": "6b0f8fb9-60bc-4083-eb4b-584586fb103f"
   },
   "outputs": [
    {
     "data": {
      "text/html": [
       "<div>\n",
       "<style scoped>\n",
       "    .dataframe tbody tr th:only-of-type {\n",
       "        vertical-align: middle;\n",
       "    }\n",
       "\n",
       "    .dataframe tbody tr th {\n",
       "        vertical-align: top;\n",
       "    }\n",
       "\n",
       "    .dataframe thead th {\n",
       "        text-align: right;\n",
       "    }\n",
       "</style>\n",
       "<table border=\"1\" class=\"dataframe\">\n",
       "  <thead>\n",
       "    <tr style=\"text-align: right;\">\n",
       "      <th></th>\n",
       "      <th>PassengerId</th>\n",
       "      <th>Survived</th>\n",
       "      <th>Pclass</th>\n",
       "      <th>Name</th>\n",
       "      <th>Sex</th>\n",
       "      <th>Age</th>\n",
       "      <th>SibSp</th>\n",
       "      <th>Parch</th>\n",
       "      <th>Ticket</th>\n",
       "      <th>Fare</th>\n",
       "      <th>Cabin</th>\n",
       "      <th>Embarked</th>\n",
       "    </tr>\n",
       "  </thead>\n",
       "  <tbody>\n",
       "    <tr>\n",
       "      <th>660</th>\n",
       "      <td>661</td>\n",
       "      <td>1</td>\n",
       "      <td>1</td>\n",
       "      <td>Frauenthal, Dr. Henry William</td>\n",
       "      <td>male</td>\n",
       "      <td>50.0</td>\n",
       "      <td>2</td>\n",
       "      <td>0</td>\n",
       "      <td>PC 17611</td>\n",
       "      <td>133.6500</td>\n",
       "      <td>NaN</td>\n",
       "      <td>S</td>\n",
       "    </tr>\n",
       "    <tr>\n",
       "      <th>852</th>\n",
       "      <td>853</td>\n",
       "      <td>0</td>\n",
       "      <td>3</td>\n",
       "      <td>Boulos, Miss. Nourelain</td>\n",
       "      <td>female</td>\n",
       "      <td>9.0</td>\n",
       "      <td>1</td>\n",
       "      <td>1</td>\n",
       "      <td>2678</td>\n",
       "      <td>15.2458</td>\n",
       "      <td>NaN</td>\n",
       "      <td>C</td>\n",
       "    </tr>\n",
       "    <tr>\n",
       "      <th>703</th>\n",
       "      <td>704</td>\n",
       "      <td>0</td>\n",
       "      <td>3</td>\n",
       "      <td>Gallagher, Mr. Martin</td>\n",
       "      <td>male</td>\n",
       "      <td>25.0</td>\n",
       "      <td>0</td>\n",
       "      <td>0</td>\n",
       "      <td>36864</td>\n",
       "      <td>7.7417</td>\n",
       "      <td>NaN</td>\n",
       "      <td>Q</td>\n",
       "    </tr>\n",
       "    <tr>\n",
       "      <th>886</th>\n",
       "      <td>887</td>\n",
       "      <td>0</td>\n",
       "      <td>2</td>\n",
       "      <td>Montvila, Rev. Juozas</td>\n",
       "      <td>male</td>\n",
       "      <td>27.0</td>\n",
       "      <td>0</td>\n",
       "      <td>0</td>\n",
       "      <td>211536</td>\n",
       "      <td>13.0000</td>\n",
       "      <td>NaN</td>\n",
       "      <td>S</td>\n",
       "    </tr>\n",
       "    <tr>\n",
       "      <th>525</th>\n",
       "      <td>526</td>\n",
       "      <td>0</td>\n",
       "      <td>3</td>\n",
       "      <td>Farrell, Mr. James</td>\n",
       "      <td>male</td>\n",
       "      <td>40.5</td>\n",
       "      <td>0</td>\n",
       "      <td>0</td>\n",
       "      <td>367232</td>\n",
       "      <td>7.7500</td>\n",
       "      <td>NaN</td>\n",
       "      <td>Q</td>\n",
       "    </tr>\n",
       "  </tbody>\n",
       "</table>\n",
       "</div>"
      ],
      "text/plain": [
       "     PassengerId  Survived  Pclass                           Name     Sex  \\\n",
       "660          661         1       1  Frauenthal, Dr. Henry William    male   \n",
       "852          853         0       3        Boulos, Miss. Nourelain  female   \n",
       "703          704         0       3          Gallagher, Mr. Martin    male   \n",
       "886          887         0       2          Montvila, Rev. Juozas    male   \n",
       "525          526         0       3             Farrell, Mr. James    male   \n",
       "\n",
       "      Age  SibSp  Parch    Ticket      Fare Cabin Embarked  \n",
       "660  50.0      2      0  PC 17611  133.6500   NaN        S  \n",
       "852   9.0      1      1      2678   15.2458   NaN        C  \n",
       "703  25.0      0      0     36864    7.7417   NaN        Q  \n",
       "886  27.0      0      0    211536   13.0000   NaN        S  \n",
       "525  40.5      0      0    367232    7.7500   NaN        Q  "
      ]
     },
     "execution_count": 2,
     "metadata": {},
     "output_type": "execute_result"
    }
   ],
   "source": [
    "df = pd.read_csv(\"train.csv\")\n",
    "df_train, df_test = train_test_split(df, test_size=0.25, random_state=123)\n",
    "df_train.head()"
   ]
  },
  {
   "cell_type": "markdown",
   "metadata": {
    "id": "Sg6bf1FDMEY2"
   },
   "source": [
    "# Explore the data to gain insight to get an idea of how to clean it and what potential information can be extracted:"
   ]
  },
  {
   "cell_type": "code",
   "execution_count": 3,
   "metadata": {
    "colab": {
     "base_uri": "https://localhost:8080/"
    },
    "id": "hPjWxZ2Z8bBa",
    "outputId": "4d4fe084-ba89-402c-d580-fa1447ff8b23"
   },
   "outputs": [
    {
     "name": "stdout",
     "output_type": "stream",
     "text": [
      "<class 'pandas.core.frame.DataFrame'>\n",
      "Int64Index: 668 entries, 660 to 510\n",
      "Data columns (total 12 columns):\n",
      " #   Column       Non-Null Count  Dtype  \n",
      "---  ------       --------------  -----  \n",
      " 0   PassengerId  668 non-null    int64  \n",
      " 1   Survived     668 non-null    int64  \n",
      " 2   Pclass       668 non-null    int64  \n",
      " 3   Name         668 non-null    object \n",
      " 4   Sex          668 non-null    object \n",
      " 5   Age          529 non-null    float64\n",
      " 6   SibSp        668 non-null    int64  \n",
      " 7   Parch        668 non-null    int64  \n",
      " 8   Ticket       668 non-null    object \n",
      " 9   Fare         668 non-null    float64\n",
      " 10  Cabin        146 non-null    object \n",
      " 11  Embarked     666 non-null    object \n",
      "dtypes: float64(2), int64(5), object(5)\n",
      "memory usage: 67.8+ KB\n",
      "Duplicate rows: 0\n"
     ]
    }
   ],
   "source": [
    "# Explore amount of data, column information, missing, and duplicate rows in training set\n",
    "df_train.info()\n",
    "print(f\"Duplicate rows: {df_train.duplicated().sum()}\")"
   ]
  },
  {
   "cell_type": "markdown",
   "metadata": {
    "id": "M2uBnfQtAwJl"
   },
   "source": [
    "Observations: Over 75% of entries are missing the \"Cabin\" feature. Around 20% of entries are missing the \"Age\" feature. 2 entries are missing the \"Embarked\" feature. The cabin column will be dropped, while the missing values in the age column and embarked column will be imputed by regression."
   ]
  },
  {
   "cell_type": "code",
   "execution_count": 4,
   "metadata": {
    "colab": {
     "base_uri": "https://localhost:8080/",
     "height": 394
    },
    "id": "nk1P-90sAjBH",
    "outputId": "6279a00d-3485-4df6-8a4a-41d10e675a2d"
   },
   "outputs": [
    {
     "data": {
      "text/html": [
       "<div>\n",
       "<style scoped>\n",
       "    .dataframe tbody tr th:only-of-type {\n",
       "        vertical-align: middle;\n",
       "    }\n",
       "\n",
       "    .dataframe tbody tr th {\n",
       "        vertical-align: top;\n",
       "    }\n",
       "\n",
       "    .dataframe thead th {\n",
       "        text-align: right;\n",
       "    }\n",
       "</style>\n",
       "<table border=\"1\" class=\"dataframe\">\n",
       "  <thead>\n",
       "    <tr style=\"text-align: right;\">\n",
       "      <th></th>\n",
       "      <th>PassengerId</th>\n",
       "      <th>Survived</th>\n",
       "      <th>Pclass</th>\n",
       "      <th>Name</th>\n",
       "      <th>Sex</th>\n",
       "      <th>Age</th>\n",
       "      <th>SibSp</th>\n",
       "      <th>Parch</th>\n",
       "      <th>Ticket</th>\n",
       "      <th>Fare</th>\n",
       "      <th>Cabin</th>\n",
       "      <th>Embarked</th>\n",
       "    </tr>\n",
       "  </thead>\n",
       "  <tbody>\n",
       "    <tr>\n",
       "      <th>count</th>\n",
       "      <td>668.000000</td>\n",
       "      <td>668.000000</td>\n",
       "      <td>668.000000</td>\n",
       "      <td>668</td>\n",
       "      <td>668</td>\n",
       "      <td>529.000000</td>\n",
       "      <td>668.000000</td>\n",
       "      <td>668.000000</td>\n",
       "      <td>668</td>\n",
       "      <td>668.000000</td>\n",
       "      <td>146</td>\n",
       "      <td>666</td>\n",
       "    </tr>\n",
       "    <tr>\n",
       "      <th>unique</th>\n",
       "      <td>NaN</td>\n",
       "      <td>NaN</td>\n",
       "      <td>NaN</td>\n",
       "      <td>668</td>\n",
       "      <td>2</td>\n",
       "      <td>NaN</td>\n",
       "      <td>NaN</td>\n",
       "      <td>NaN</td>\n",
       "      <td>542</td>\n",
       "      <td>NaN</td>\n",
       "      <td>110</td>\n",
       "      <td>3</td>\n",
       "    </tr>\n",
       "    <tr>\n",
       "      <th>top</th>\n",
       "      <td>NaN</td>\n",
       "      <td>NaN</td>\n",
       "      <td>NaN</td>\n",
       "      <td>Frauenthal, Dr. Henry William</td>\n",
       "      <td>male</td>\n",
       "      <td>NaN</td>\n",
       "      <td>NaN</td>\n",
       "      <td>NaN</td>\n",
       "      <td>CA. 2343</td>\n",
       "      <td>NaN</td>\n",
       "      <td>G6</td>\n",
       "      <td>S</td>\n",
       "    </tr>\n",
       "    <tr>\n",
       "      <th>freq</th>\n",
       "      <td>NaN</td>\n",
       "      <td>NaN</td>\n",
       "      <td>NaN</td>\n",
       "      <td>1</td>\n",
       "      <td>430</td>\n",
       "      <td>NaN</td>\n",
       "      <td>NaN</td>\n",
       "      <td>NaN</td>\n",
       "      <td>7</td>\n",
       "      <td>NaN</td>\n",
       "      <td>4</td>\n",
       "      <td>488</td>\n",
       "    </tr>\n",
       "    <tr>\n",
       "      <th>mean</th>\n",
       "      <td>440.474551</td>\n",
       "      <td>0.386228</td>\n",
       "      <td>2.324850</td>\n",
       "      <td>NaN</td>\n",
       "      <td>NaN</td>\n",
       "      <td>29.934329</td>\n",
       "      <td>0.526946</td>\n",
       "      <td>0.369760</td>\n",
       "      <td>NaN</td>\n",
       "      <td>32.790399</td>\n",
       "      <td>NaN</td>\n",
       "      <td>NaN</td>\n",
       "    </tr>\n",
       "    <tr>\n",
       "      <th>std</th>\n",
       "      <td>256.111554</td>\n",
       "      <td>0.487249</td>\n",
       "      <td>0.829106</td>\n",
       "      <td>NaN</td>\n",
       "      <td>NaN</td>\n",
       "      <td>14.378073</td>\n",
       "      <td>1.139791</td>\n",
       "      <td>0.781792</td>\n",
       "      <td>NaN</td>\n",
       "      <td>53.041537</td>\n",
       "      <td>NaN</td>\n",
       "      <td>NaN</td>\n",
       "    </tr>\n",
       "    <tr>\n",
       "      <th>min</th>\n",
       "      <td>1.000000</td>\n",
       "      <td>0.000000</td>\n",
       "      <td>1.000000</td>\n",
       "      <td>NaN</td>\n",
       "      <td>NaN</td>\n",
       "      <td>0.420000</td>\n",
       "      <td>0.000000</td>\n",
       "      <td>0.000000</td>\n",
       "      <td>NaN</td>\n",
       "      <td>0.000000</td>\n",
       "      <td>NaN</td>\n",
       "      <td>NaN</td>\n",
       "    </tr>\n",
       "    <tr>\n",
       "      <th>25%</th>\n",
       "      <td>217.750000</td>\n",
       "      <td>0.000000</td>\n",
       "      <td>2.000000</td>\n",
       "      <td>NaN</td>\n",
       "      <td>NaN</td>\n",
       "      <td>21.000000</td>\n",
       "      <td>0.000000</td>\n",
       "      <td>0.000000</td>\n",
       "      <td>NaN</td>\n",
       "      <td>7.925000</td>\n",
       "      <td>NaN</td>\n",
       "      <td>NaN</td>\n",
       "    </tr>\n",
       "    <tr>\n",
       "      <th>50%</th>\n",
       "      <td>442.500000</td>\n",
       "      <td>0.000000</td>\n",
       "      <td>3.000000</td>\n",
       "      <td>NaN</td>\n",
       "      <td>NaN</td>\n",
       "      <td>28.000000</td>\n",
       "      <td>0.000000</td>\n",
       "      <td>0.000000</td>\n",
       "      <td>NaN</td>\n",
       "      <td>14.427100</td>\n",
       "      <td>NaN</td>\n",
       "      <td>NaN</td>\n",
       "    </tr>\n",
       "    <tr>\n",
       "      <th>75%</th>\n",
       "      <td>654.250000</td>\n",
       "      <td>1.000000</td>\n",
       "      <td>3.000000</td>\n",
       "      <td>NaN</td>\n",
       "      <td>NaN</td>\n",
       "      <td>38.000000</td>\n",
       "      <td>1.000000</td>\n",
       "      <td>0.000000</td>\n",
       "      <td>NaN</td>\n",
       "      <td>30.500000</td>\n",
       "      <td>NaN</td>\n",
       "      <td>NaN</td>\n",
       "    </tr>\n",
       "    <tr>\n",
       "      <th>max</th>\n",
       "      <td>891.000000</td>\n",
       "      <td>1.000000</td>\n",
       "      <td>3.000000</td>\n",
       "      <td>NaN</td>\n",
       "      <td>NaN</td>\n",
       "      <td>80.000000</td>\n",
       "      <td>8.000000</td>\n",
       "      <td>5.000000</td>\n",
       "      <td>NaN</td>\n",
       "      <td>512.329200</td>\n",
       "      <td>NaN</td>\n",
       "      <td>NaN</td>\n",
       "    </tr>\n",
       "  </tbody>\n",
       "</table>\n",
       "</div>"
      ],
      "text/plain": [
       "        PassengerId    Survived      Pclass                           Name  \\\n",
       "count    668.000000  668.000000  668.000000                            668   \n",
       "unique          NaN         NaN         NaN                            668   \n",
       "top             NaN         NaN         NaN  Frauenthal, Dr. Henry William   \n",
       "freq            NaN         NaN         NaN                              1   \n",
       "mean     440.474551    0.386228    2.324850                            NaN   \n",
       "std      256.111554    0.487249    0.829106                            NaN   \n",
       "min        1.000000    0.000000    1.000000                            NaN   \n",
       "25%      217.750000    0.000000    2.000000                            NaN   \n",
       "50%      442.500000    0.000000    3.000000                            NaN   \n",
       "75%      654.250000    1.000000    3.000000                            NaN   \n",
       "max      891.000000    1.000000    3.000000                            NaN   \n",
       "\n",
       "         Sex         Age       SibSp       Parch    Ticket        Fare Cabin  \\\n",
       "count    668  529.000000  668.000000  668.000000       668  668.000000   146   \n",
       "unique     2         NaN         NaN         NaN       542         NaN   110   \n",
       "top     male         NaN         NaN         NaN  CA. 2343         NaN    G6   \n",
       "freq     430         NaN         NaN         NaN         7         NaN     4   \n",
       "mean     NaN   29.934329    0.526946    0.369760       NaN   32.790399   NaN   \n",
       "std      NaN   14.378073    1.139791    0.781792       NaN   53.041537   NaN   \n",
       "min      NaN    0.420000    0.000000    0.000000       NaN    0.000000   NaN   \n",
       "25%      NaN   21.000000    0.000000    0.000000       NaN    7.925000   NaN   \n",
       "50%      NaN   28.000000    0.000000    0.000000       NaN   14.427100   NaN   \n",
       "75%      NaN   38.000000    1.000000    0.000000       NaN   30.500000   NaN   \n",
       "max      NaN   80.000000    8.000000    5.000000       NaN  512.329200   NaN   \n",
       "\n",
       "       Embarked  \n",
       "count       666  \n",
       "unique        3  \n",
       "top           S  \n",
       "freq        488  \n",
       "mean        NaN  \n",
       "std         NaN  \n",
       "min         NaN  \n",
       "25%         NaN  \n",
       "50%         NaN  \n",
       "75%         NaN  \n",
       "max         NaN  "
      ]
     },
     "execution_count": 4,
     "metadata": {},
     "output_type": "execute_result"
    }
   ],
   "source": [
    "# View statistics about each column\n",
    "df_train.describe(include=\"all\")"
   ]
  },
  {
   "cell_type": "code",
   "execution_count": 5,
   "metadata": {},
   "outputs": [
    {
     "data": {
      "text/plain": [
       "0    410\n",
       "1    258\n",
       "Name: Survived, dtype: int64"
      ]
     },
     "execution_count": 5,
     "metadata": {},
     "output_type": "execute_result"
    }
   ],
   "source": [
    "# View amount survived/not survived\n",
    "df_train[\"Survived\"].value_counts()"
   ]
  },
  {
   "cell_type": "markdown",
   "metadata": {},
   "source": [
    "Classes are imbalanced -- 410 did not survive, while 258 did"
   ]
  },
  {
   "cell_type": "code",
   "execution_count": 6,
   "metadata": {
    "id": "-eRl-WD5MTN_"
   },
   "outputs": [],
   "source": [
    "# Drop columns that are of little use\n",
    "df_train = df_train.drop(columns=[\"PassengerId\", \"Cabin\"])"
   ]
  },
  {
   "cell_type": "markdown",
   "metadata": {
    "id": "OdzGa1nRND3R"
   },
   "source": [
    "The \"PassengerId\" column is dropped as it does not provide any new insights about the data. The \"Cabin\" column is dropped as there is too much missing information relating to that feature."
   ]
  },
  {
   "cell_type": "code",
   "execution_count": 7,
   "metadata": {
    "id": "gKkFBZs1NRTT"
   },
   "outputs": [],
   "source": [
    "# Transform the sex into 0/1 --> 0: male, 1: female\n",
    "df_train[\"Sex\"] = df_train[\"Sex\"].map({\"male\": 0, \"female\": 1})"
   ]
  },
  {
   "cell_type": "markdown",
   "metadata": {
    "id": "b2mWG_AvOc7e"
   },
   "source": [
    "Encode the sex value as 0 for males and 1 for females so it can be used with the models."
   ]
  },
  {
   "cell_type": "code",
   "execution_count": 8,
   "metadata": {
    "id": "qtJPhNMLAakm"
   },
   "outputs": [],
   "source": [
    "# Impute missing values in \"Embarked\" with the value that occurs the most -- \"S\"\n",
    "df_train[\"Embarked\"] = df_train[\"Embarked\"].fillna(df_train[\"Embarked\"].mode())"
   ]
  },
  {
   "cell_type": "code",
   "execution_count": 9,
   "metadata": {
    "id": "_Mbl4nqwbNjo"
   },
   "outputs": [],
   "source": [
    "# Create a new feature for number of family members on board, excluding themselves\n",
    "# Combining SibSp and Parch columns\n",
    "df_train[\"Family\"] = df_train[\"SibSp\"] + df_train[\"Parch\"]"
   ]
  },
  {
   "cell_type": "code",
   "execution_count": 10,
   "metadata": {
    "colab": {
     "base_uri": "https://localhost:8080/",
     "height": 175
    },
    "id": "Vd25lECjO5UI",
    "outputId": "8e2c0c5d-97c9-48ca-95ae-402c9b1c7efe"
   },
   "outputs": [
    {
     "data": {
      "text/html": [
       "<div>\n",
       "<style scoped>\n",
       "    .dataframe tbody tr th:only-of-type {\n",
       "        vertical-align: middle;\n",
       "    }\n",
       "\n",
       "    .dataframe tbody tr th {\n",
       "        vertical-align: top;\n",
       "    }\n",
       "\n",
       "    .dataframe thead th {\n",
       "        text-align: right;\n",
       "    }\n",
       "</style>\n",
       "<table border=\"1\" class=\"dataframe\">\n",
       "  <thead>\n",
       "    <tr style=\"text-align: right;\">\n",
       "      <th></th>\n",
       "      <th>Survived</th>\n",
       "      <th>Sex</th>\n",
       "      <th>Age</th>\n",
       "      <th>SibSp</th>\n",
       "      <th>Parch</th>\n",
       "      <th>Fare</th>\n",
       "      <th>Family</th>\n",
       "    </tr>\n",
       "    <tr>\n",
       "      <th>Pclass</th>\n",
       "      <th></th>\n",
       "      <th></th>\n",
       "      <th></th>\n",
       "      <th></th>\n",
       "      <th></th>\n",
       "      <th></th>\n",
       "      <th></th>\n",
       "    </tr>\n",
       "  </thead>\n",
       "  <tbody>\n",
       "    <tr>\n",
       "      <th>1</th>\n",
       "      <td>0.634615</td>\n",
       "      <td>0.429487</td>\n",
       "      <td>38.645401</td>\n",
       "      <td>0.442308</td>\n",
       "      <td>0.358974</td>\n",
       "      <td>89.495272</td>\n",
       "      <td>0.801282</td>\n",
       "    </tr>\n",
       "    <tr>\n",
       "      <th>2</th>\n",
       "      <td>0.453237</td>\n",
       "      <td>0.410072</td>\n",
       "      <td>29.939769</td>\n",
       "      <td>0.395683</td>\n",
       "      <td>0.366906</td>\n",
       "      <td>20.778927</td>\n",
       "      <td>0.762590</td>\n",
       "    </tr>\n",
       "    <tr>\n",
       "      <th>3</th>\n",
       "      <td>0.257373</td>\n",
       "      <td>0.305630</td>\n",
       "      <td>25.376603</td>\n",
       "      <td>0.611260</td>\n",
       "      <td>0.375335</td>\n",
       "      <td>13.550814</td>\n",
       "      <td>0.986595</td>\n",
       "    </tr>\n",
       "  </tbody>\n",
       "</table>\n",
       "</div>"
      ],
      "text/plain": [
       "        Survived       Sex        Age     SibSp     Parch       Fare    Family\n",
       "Pclass                                                                        \n",
       "1       0.634615  0.429487  38.645401  0.442308  0.358974  89.495272  0.801282\n",
       "2       0.453237  0.410072  29.939769  0.395683  0.366906  20.778927  0.762590\n",
       "3       0.257373  0.305630  25.376603  0.611260  0.375335  13.550814  0.986595"
      ]
     },
     "execution_count": 10,
     "metadata": {},
     "output_type": "execute_result"
    }
   ],
   "source": [
    "# Using the ticket class as an indicator of socio-economic status, we search for relationships between socio-economic status and other features\n",
    "eco_status_group = df_train.groupby(\"Pclass\").mean()\n",
    "eco_status_group"
   ]
  },
  {
   "cell_type": "code",
   "execution_count": 11,
   "metadata": {
    "colab": {
     "base_uri": "https://localhost:8080/",
     "height": 720
    },
    "id": "DskC9qDlb666",
    "outputId": "60895f38-729a-43ca-c3ba-f57e2da872eb"
   },
   "outputs": [
    {
     "data": {
      "text/plain": [
       "array([[<AxesSubplot:title={'center':'Survived'}, xlabel='Pclass'>,\n",
       "        <AxesSubplot:title={'center':'Sex'}, xlabel='Pclass'>,\n",
       "        <AxesSubplot:title={'center':'Age'}, xlabel='Pclass'>,\n",
       "        <AxesSubplot:title={'center':'SibSp'}, xlabel='Pclass'>],\n",
       "       [<AxesSubplot:title={'center':'Parch'}, xlabel='Pclass'>,\n",
       "        <AxesSubplot:title={'center':'Fare'}, xlabel='Pclass'>,\n",
       "        <AxesSubplot:title={'center':'Family'}, xlabel='Pclass'>,\n",
       "        <AxesSubplot:xlabel='Pclass'>]], dtype=object)"
      ]
     },
     "execution_count": 11,
     "metadata": {},
     "output_type": "execute_result"
    },
    {
     "data": {
      "image/png": "[encoded data removed]",
      "text/plain": [
       "<Figure size 1152x648 with 8 Axes>"
      ]
     },
     "metadata": {
      "needs_background": "light"
     },
     "output_type": "display_data"
    }
   ],
   "source": [
    "# Graphing these observations\n",
    "eco_status_group.plot.bar(subplots=True, layout=(2,4), figsize=(16,9))"
   ]
  },
  {
   "cell_type": "markdown",
   "metadata": {
    "id": "34LMKIorgwsQ"
   },
   "source": [
    "We can see clear trends when socio-economic status (ticket class) is plotted against the other (numerical) features. First, as expected, the fare decreases as ticket class increases (from 1 to 3), which is why ticket class is a decent measure of socio-economic status as poorer families would most likely prefer buying tickets of lower classes. As for the other trends, those of a lower economic status tend to have much lower survival rates, have more family members on board, tend to be younger, and tend to be males."
   ]
  },
  {
   "cell_type": "code",
   "execution_count": 12,
   "metadata": {
    "colab": {
     "base_uri": "https://localhost:8080/",
     "height": 143
    },
    "id": "_beP8-TLBPgb",
    "outputId": "3f12221c-1c80-45a0-b538-7cad7e4a3d68"
   },
   "outputs": [
    {
     "data": {
      "text/html": [
       "<div>\n",
       "<style scoped>\n",
       "    .dataframe tbody tr th:only-of-type {\n",
       "        vertical-align: middle;\n",
       "    }\n",
       "\n",
       "    .dataframe tbody tr th {\n",
       "        vertical-align: top;\n",
       "    }\n",
       "\n",
       "    .dataframe thead th {\n",
       "        text-align: right;\n",
       "    }\n",
       "</style>\n",
       "<table border=\"1\" class=\"dataframe\">\n",
       "  <thead>\n",
       "    <tr style=\"text-align: right;\">\n",
       "      <th></th>\n",
       "      <th>Pclass</th>\n",
       "      <th>Sex</th>\n",
       "      <th>Age</th>\n",
       "      <th>SibSp</th>\n",
       "      <th>Parch</th>\n",
       "      <th>Fare</th>\n",
       "      <th>Family</th>\n",
       "    </tr>\n",
       "    <tr>\n",
       "      <th>Survived</th>\n",
       "      <th></th>\n",
       "      <th></th>\n",
       "      <th></th>\n",
       "      <th></th>\n",
       "      <th></th>\n",
       "      <th></th>\n",
       "      <th></th>\n",
       "    </tr>\n",
       "  </thead>\n",
       "  <tbody>\n",
       "    <tr>\n",
       "      <th>0</th>\n",
       "      <td>2.536585</td>\n",
       "      <td>0.151220</td>\n",
       "      <td>31.012945</td>\n",
       "      <td>0.563415</td>\n",
       "      <td>0.312195</td>\n",
       "      <td>22.576237</td>\n",
       "      <td>0.875610</td>\n",
       "    </tr>\n",
       "    <tr>\n",
       "      <th>1</th>\n",
       "      <td>1.988372</td>\n",
       "      <td>0.682171</td>\n",
       "      <td>28.419364</td>\n",
       "      <td>0.468992</td>\n",
       "      <td>0.461240</td>\n",
       "      <td>49.022207</td>\n",
       "      <td>0.930233</td>\n",
       "    </tr>\n",
       "  </tbody>\n",
       "</table>\n",
       "</div>"
      ],
      "text/plain": [
       "            Pclass       Sex        Age     SibSp     Parch       Fare  \\\n",
       "Survived                                                                 \n",
       "0         2.536585  0.151220  31.012945  0.563415  0.312195  22.576237   \n",
       "1         1.988372  0.682171  28.419364  0.468992  0.461240  49.022207   \n",
       "\n",
       "            Family  \n",
       "Survived            \n",
       "0         0.875610  \n",
       "1         0.930233  "
      ]
     },
     "execution_count": 12,
     "metadata": {},
     "output_type": "execute_result"
    }
   ],
   "source": [
    "# We explore the distribution of survival victims in relation to age, gender, socioeconomic class, and number of family members on board\n",
    "survival_group = df_train.groupby(\"Survived\").mean()\n",
    "survival_group"
   ]
  },
  {
   "cell_type": "code",
   "execution_count": 13,
   "metadata": {
    "colab": {
     "base_uri": "https://localhost:8080/",
     "height": 720
    },
    "id": "KxBt1FP8iEHK",
    "outputId": "b1ff6b12-378a-4898-e8f4-7528df311a6c"
   },
   "outputs": [
    {
     "data": {
      "text/plain": [
       "array([[<AxesSubplot:title={'center':'Pclass'}, xlabel='Survived'>,\n",
       "        <AxesSubplot:title={'center':'Sex'}, xlabel='Survived'>,\n",
       "        <AxesSubplot:title={'center':'Age'}, xlabel='Survived'>,\n",
       "        <AxesSubplot:title={'center':'SibSp'}, xlabel='Survived'>],\n",
       "       [<AxesSubplot:title={'center':'Parch'}, xlabel='Survived'>,\n",
       "        <AxesSubplot:title={'center':'Fare'}, xlabel='Survived'>,\n",
       "        <AxesSubplot:title={'center':'Family'}, xlabel='Survived'>,\n",
       "        <AxesSubplot:xlabel='Survived'>]], dtype=object)"
      ]
     },
     "execution_count": 13,
     "metadata": {},
     "output_type": "execute_result"
    },
    {
     "data": {
      "image/png": "[encoded data removed]",
      "text/plain": [
       "<Figure size 1152x648 with 8 Axes>"
      ]
     },
     "metadata": {
      "needs_background": "light"
     },
     "output_type": "display_data"
    }
   ],
   "source": [
    "survival_group.plot.bar(subplots=True, layout=(2,4), figsize=(16,9))"
   ]
  },
  {
   "cell_type": "markdown",
   "metadata": {
    "id": "Hm5mygu5jq-J"
   },
   "source": [
    "We can also observe clear trends when plotting survival vs other features. It can be observed that those that survived tend to have paid a higher fare and are part of a higher ticket class (towards 1st class). They also vastly tend to be female. Those with parents/children on board tend to have higher survival rates and those with siblings/spouses tend to have lower survival rates, but overall, those with more family members on board tended to have higher survival rates. We also see that those who survived tend to be younger."
   ]
  },
  {
   "cell_type": "code",
   "execution_count": 14,
   "metadata": {},
   "outputs": [
    {
     "data": {
      "text/html": [
       "<div>\n",
       "<style scoped>\n",
       "    .dataframe tbody tr th:only-of-type {\n",
       "        vertical-align: middle;\n",
       "    }\n",
       "\n",
       "    .dataframe tbody tr th {\n",
       "        vertical-align: top;\n",
       "    }\n",
       "\n",
       "    .dataframe thead th {\n",
       "        text-align: right;\n",
       "    }\n",
       "</style>\n",
       "<table border=\"1\" class=\"dataframe\">\n",
       "  <thead>\n",
       "    <tr style=\"text-align: right;\">\n",
       "      <th></th>\n",
       "      <th>Survived</th>\n",
       "      <th>Pclass</th>\n",
       "      <th>Age</th>\n",
       "      <th>SibSp</th>\n",
       "      <th>Parch</th>\n",
       "      <th>Fare</th>\n",
       "      <th>Family</th>\n",
       "    </tr>\n",
       "    <tr>\n",
       "      <th>Sex</th>\n",
       "      <th></th>\n",
       "      <th></th>\n",
       "      <th></th>\n",
       "      <th></th>\n",
       "      <th></th>\n",
       "      <th></th>\n",
       "      <th></th>\n",
       "    </tr>\n",
       "  </thead>\n",
       "  <tbody>\n",
       "    <tr>\n",
       "      <th>0</th>\n",
       "      <td>0.190698</td>\n",
       "      <td>2.395349</td>\n",
       "      <td>31.064595</td>\n",
       "      <td>0.427907</td>\n",
       "      <td>0.230233</td>\n",
       "      <td>26.563321</td>\n",
       "      <td>0.658140</td>\n",
       "    </tr>\n",
       "    <tr>\n",
       "      <th>1</th>\n",
       "      <td>0.739496</td>\n",
       "      <td>2.197479</td>\n",
       "      <td>28.014031</td>\n",
       "      <td>0.705882</td>\n",
       "      <td>0.621849</td>\n",
       "      <td>44.041003</td>\n",
       "      <td>1.327731</td>\n",
       "    </tr>\n",
       "  </tbody>\n",
       "</table>\n",
       "</div>"
      ],
      "text/plain": [
       "     Survived    Pclass        Age     SibSp     Parch       Fare    Family\n",
       "Sex                                                                        \n",
       "0    0.190698  2.395349  31.064595  0.427907  0.230233  26.563321  0.658140\n",
       "1    0.739496  2.197479  28.014031  0.705882  0.621849  44.041003  1.327731"
      ]
     },
     "execution_count": 14,
     "metadata": {},
     "output_type": "execute_result"
    }
   ],
   "source": [
    "# We explore the relationships between sex and the other features\n",
    "sex_group = df_train.groupby(\"Sex\").mean()\n",
    "sex_group"
   ]
  },
  {
   "cell_type": "code",
   "execution_count": 15,
   "metadata": {},
   "outputs": [
    {
     "data": {
      "text/plain": [
       "array([[<AxesSubplot:title={'center':'Survived'}, xlabel='Sex'>,\n",
       "        <AxesSubplot:title={'center':'Pclass'}, xlabel='Sex'>,\n",
       "        <AxesSubplot:title={'center':'Age'}, xlabel='Sex'>,\n",
       "        <AxesSubplot:title={'center':'SibSp'}, xlabel='Sex'>],\n",
       "       [<AxesSubplot:title={'center':'Parch'}, xlabel='Sex'>,\n",
       "        <AxesSubplot:title={'center':'Fare'}, xlabel='Sex'>,\n",
       "        <AxesSubplot:title={'center':'Family'}, xlabel='Sex'>,\n",
       "        <AxesSubplot:xlabel='Sex'>]], dtype=object)"
      ]
     },
     "execution_count": 15,
     "metadata": {},
     "output_type": "execute_result"
    },
    {
     "data": {
      "image/png": "[encoded data removed]",
      "text/plain": [
       "<Figure size 1152x648 with 8 Axes>"
      ]
     },
     "metadata": {
      "needs_background": "light"
     },
     "output_type": "display_data"
    }
   ],
   "source": [
    "sex_group.plot.bar(subplots=True, layout=(2,4), figsize=(16,9))"
   ]
  },
  {
   "cell_type": "markdown",
   "metadata": {},
   "source": [
    "We observe trends consistent with trends observed during the analysis of the other features above. Females tended to have a higher socio-economic status, are younger, and have more family on board. Those three tendencies correlate with having higher survival rates. This demonstrates that there is some multicollinearity between the features (the features are related to each other in some way)."
   ]
  },
  {
   "cell_type": "code",
   "execution_count": 16,
   "metadata": {
    "colab": {
     "base_uri": "https://localhost:8080/",
     "height": 300
    },
    "id": "hIHT4i5Spfxp",
    "outputId": "6d074f9d-585f-4180-dcbb-ea5defe0c992"
   },
   "outputs": [
    {
     "data": {
      "text/html": [
       "<div>\n",
       "<style scoped>\n",
       "    .dataframe tbody tr th:only-of-type {\n",
       "        vertical-align: middle;\n",
       "    }\n",
       "\n",
       "    .dataframe tbody tr th {\n",
       "        vertical-align: top;\n",
       "    }\n",
       "\n",
       "    .dataframe thead th {\n",
       "        text-align: right;\n",
       "    }\n",
       "</style>\n",
       "<table border=\"1\" class=\"dataframe\">\n",
       "  <thead>\n",
       "    <tr style=\"text-align: right;\">\n",
       "      <th></th>\n",
       "      <th>Survived</th>\n",
       "      <th>Pclass</th>\n",
       "      <th>Sex</th>\n",
       "      <th>Age</th>\n",
       "      <th>SibSp</th>\n",
       "      <th>Parch</th>\n",
       "      <th>Fare</th>\n",
       "      <th>Family</th>\n",
       "    </tr>\n",
       "  </thead>\n",
       "  <tbody>\n",
       "    <tr>\n",
       "      <th>Survived</th>\n",
       "      <td>1.000000</td>\n",
       "      <td>-0.320395</td>\n",
       "      <td>0.539801</td>\n",
       "      <td>-0.060399</td>\n",
       "      <td>0.086678</td>\n",
       "      <td>0.138633</td>\n",
       "      <td>0.305954</td>\n",
       "      <td>0.162893</td>\n",
       "    </tr>\n",
       "    <tr>\n",
       "      <th>Pclass</th>\n",
       "      <td>-0.320395</td>\n",
       "      <td>1.000000</td>\n",
       "      <td>-0.117888</td>\n",
       "      <td>-0.373305</td>\n",
       "      <td>-0.052970</td>\n",
       "      <td>-0.024165</td>\n",
       "      <td>-0.691786</td>\n",
       "      <td>-0.068877</td>\n",
       "    </tr>\n",
       "    <tr>\n",
       "      <th>Sex</th>\n",
       "      <td>0.539801</td>\n",
       "      <td>-0.117888</td>\n",
       "      <td>1.000000</td>\n",
       "      <td>-0.090372</td>\n",
       "      <td>0.190488</td>\n",
       "      <td>0.243240</td>\n",
       "      <td>0.240335</td>\n",
       "      <td>0.287382</td>\n",
       "    </tr>\n",
       "    <tr>\n",
       "      <th>Age</th>\n",
       "      <td>-0.060399</td>\n",
       "      <td>-0.373305</td>\n",
       "      <td>-0.090372</td>\n",
       "      <td>1.000000</td>\n",
       "      <td>-0.163490</td>\n",
       "      <td>-0.242869</td>\n",
       "      <td>0.159293</td>\n",
       "      <td>-0.210499</td>\n",
       "    </tr>\n",
       "    <tr>\n",
       "      <th>SibSp</th>\n",
       "      <td>0.086678</td>\n",
       "      <td>-0.052970</td>\n",
       "      <td>0.190488</td>\n",
       "      <td>-0.163490</td>\n",
       "      <td>1.000000</td>\n",
       "      <td>0.444461</td>\n",
       "      <td>0.444830</td>\n",
       "      <td>0.849650</td>\n",
       "    </tr>\n",
       "    <tr>\n",
       "      <th>Parch</th>\n",
       "      <td>0.138633</td>\n",
       "      <td>-0.024165</td>\n",
       "      <td>0.243240</td>\n",
       "      <td>-0.242869</td>\n",
       "      <td>0.444461</td>\n",
       "      <td>1.000000</td>\n",
       "      <td>0.398725</td>\n",
       "      <td>0.796089</td>\n",
       "    </tr>\n",
       "    <tr>\n",
       "      <th>Fare</th>\n",
       "      <td>0.305954</td>\n",
       "      <td>-0.691786</td>\n",
       "      <td>0.240335</td>\n",
       "      <td>0.159293</td>\n",
       "      <td>0.444830</td>\n",
       "      <td>0.398725</td>\n",
       "      <td>1.000000</td>\n",
       "      <td>0.514520</td>\n",
       "    </tr>\n",
       "    <tr>\n",
       "      <th>Family</th>\n",
       "      <td>0.162893</td>\n",
       "      <td>-0.068877</td>\n",
       "      <td>0.287382</td>\n",
       "      <td>-0.210499</td>\n",
       "      <td>0.849650</td>\n",
       "      <td>0.796089</td>\n",
       "      <td>0.514520</td>\n",
       "      <td>1.000000</td>\n",
       "    </tr>\n",
       "  </tbody>\n",
       "</table>\n",
       "</div>"
      ],
      "text/plain": [
       "          Survived    Pclass       Sex       Age     SibSp     Parch  \\\n",
       "Survived  1.000000 -0.320395  0.539801 -0.060399  0.086678  0.138633   \n",
       "Pclass   -0.320395  1.000000 -0.117888 -0.373305 -0.052970 -0.024165   \n",
       "Sex       0.539801 -0.117888  1.000000 -0.090372  0.190488  0.243240   \n",
       "Age      -0.060399 -0.373305 -0.090372  1.000000 -0.163490 -0.242869   \n",
       "SibSp     0.086678 -0.052970  0.190488 -0.163490  1.000000  0.444461   \n",
       "Parch     0.138633 -0.024165  0.243240 -0.242869  0.444461  1.000000   \n",
       "Fare      0.305954 -0.691786  0.240335  0.159293  0.444830  0.398725   \n",
       "Family    0.162893 -0.068877  0.287382 -0.210499  0.849650  0.796089   \n",
       "\n",
       "              Fare    Family  \n",
       "Survived  0.305954  0.162893  \n",
       "Pclass   -0.691786 -0.068877  \n",
       "Sex       0.240335  0.287382  \n",
       "Age       0.159293 -0.210499  \n",
       "SibSp     0.444830  0.849650  \n",
       "Parch     0.398725  0.796089  \n",
       "Fare      1.000000  0.514520  \n",
       "Family    0.514520  1.000000  "
      ]
     },
     "execution_count": 16,
     "metadata": {},
     "output_type": "execute_result"
    }
   ],
   "source": [
    "# Create a correlation matrix to help determine important features\n",
    "df_train.corr(method=\"spearman\")"
   ]
  },
  {
   "cell_type": "code",
   "execution_count": 17,
   "metadata": {
    "colab": {
     "base_uri": "https://localhost:8080/",
     "height": 320
    },
    "id": "_4imzRvUrLDl",
    "outputId": "81fe1edd-0cbe-4f09-bbae-e2c1001b3b44"
   },
   "outputs": [
    {
     "data": {
      "text/plain": [
       "<AxesSubplot:>"
      ]
     },
     "execution_count": 17,
     "metadata": {},
     "output_type": "execute_result"
    },
    {
     "data": {
      "image/png": "[encoded data removed]",
      "text/plain": [
       "<Figure size 432x288 with 2 Axes>"
      ]
     },
     "metadata": {
      "needs_background": "light"
     },
     "output_type": "display_data"
    }
   ],
   "source": [
    "# Visual representation of the correlation matrix\n",
    "sns.heatmap(df_train.corr(method=\"spearman\"), vmin=-1, vmax=1)"
   ]
  },
  {
   "cell_type": "markdown",
   "metadata": {
    "id": "V8LRS8JxiXCy"
   },
   "source": [
    "From the correlation matrix, we see significant correlation with survival between ticket class, sex, and fare. We also see weaker correlation between number of family members and survival. There is barely any correlation with survival between number of parents/childrens aboard, age, and number of siblings/spouses on board. Additionally, since number of family members is a feature derived from the linear combination of \"SibSp\" and \"Parch\", the \"SibSp\" and \"Parch\" features can be removed to reduce multicollinearity effects."
   ]
  },
  {
   "cell_type": "code",
   "execution_count": 18,
   "metadata": {
    "id": "qoZrBir0kspU"
   },
   "outputs": [],
   "source": [
    "# Drop categorical features to prepare the dataset for the modeling\n",
    "df_train = df_train.drop(columns=[\"Name\", \"Ticket\", \"Embarked\"])\n",
    "\n",
    "# Drop \"SibSp\" and \"Parch\" as there is already the \"Family\" feature\n",
    "df_train = df_train.drop(columns=[\"SibSp\", \"Parch\"])"
   ]
  },
  {
   "cell_type": "code",
   "execution_count": 19,
   "metadata": {
    "colab": {
     "base_uri": "https://localhost:8080/",
     "height": 300
    },
    "id": "rMFXyMH7QSac",
    "outputId": "1d50e344-ec86-4190-a6fb-ff1bf67f2d3b"
   },
   "outputs": [
    {
     "data": {
      "text/html": [
       "<div>\n",
       "<style scoped>\n",
       "    .dataframe tbody tr th:only-of-type {\n",
       "        vertical-align: middle;\n",
       "    }\n",
       "\n",
       "    .dataframe tbody tr th {\n",
       "        vertical-align: top;\n",
       "    }\n",
       "\n",
       "    .dataframe thead th {\n",
       "        text-align: right;\n",
       "    }\n",
       "</style>\n",
       "<table border=\"1\" class=\"dataframe\">\n",
       "  <thead>\n",
       "    <tr style=\"text-align: right;\">\n",
       "      <th></th>\n",
       "      <th>Survived</th>\n",
       "      <th>Pclass</th>\n",
       "      <th>Sex</th>\n",
       "      <th>Age</th>\n",
       "      <th>Fare</th>\n",
       "      <th>Family</th>\n",
       "    </tr>\n",
       "  </thead>\n",
       "  <tbody>\n",
       "    <tr>\n",
       "      <th>count</th>\n",
       "      <td>668.000000</td>\n",
       "      <td>668.000000</td>\n",
       "      <td>668.000000</td>\n",
       "      <td>668.000000</td>\n",
       "      <td>668.000000</td>\n",
       "      <td>668.000000</td>\n",
       "    </tr>\n",
       "    <tr>\n",
       "      <th>mean</th>\n",
       "      <td>0.386228</td>\n",
       "      <td>2.324850</td>\n",
       "      <td>0.356287</td>\n",
       "      <td>29.698204</td>\n",
       "      <td>32.790399</td>\n",
       "      <td>0.896707</td>\n",
       "    </tr>\n",
       "    <tr>\n",
       "      <th>std</th>\n",
       "      <td>0.487249</td>\n",
       "      <td>0.829106</td>\n",
       "      <td>0.479260</td>\n",
       "      <td>13.862793</td>\n",
       "      <td>53.041537</td>\n",
       "      <td>1.633547</td>\n",
       "    </tr>\n",
       "    <tr>\n",
       "      <th>min</th>\n",
       "      <td>0.000000</td>\n",
       "      <td>1.000000</td>\n",
       "      <td>0.000000</td>\n",
       "      <td>0.420000</td>\n",
       "      <td>0.000000</td>\n",
       "      <td>0.000000</td>\n",
       "    </tr>\n",
       "    <tr>\n",
       "      <th>25%</th>\n",
       "      <td>0.000000</td>\n",
       "      <td>2.000000</td>\n",
       "      <td>0.000000</td>\n",
       "      <td>21.000000</td>\n",
       "      <td>7.925000</td>\n",
       "      <td>0.000000</td>\n",
       "    </tr>\n",
       "    <tr>\n",
       "      <th>50%</th>\n",
       "      <td>0.000000</td>\n",
       "      <td>3.000000</td>\n",
       "      <td>0.000000</td>\n",
       "      <td>29.000000</td>\n",
       "      <td>14.427100</td>\n",
       "      <td>0.000000</td>\n",
       "    </tr>\n",
       "    <tr>\n",
       "      <th>75%</th>\n",
       "      <td>1.000000</td>\n",
       "      <td>3.000000</td>\n",
       "      <td>1.000000</td>\n",
       "      <td>36.000000</td>\n",
       "      <td>30.500000</td>\n",
       "      <td>1.000000</td>\n",
       "    </tr>\n",
       "    <tr>\n",
       "      <th>max</th>\n",
       "      <td>1.000000</td>\n",
       "      <td>3.000000</td>\n",
       "      <td>1.000000</td>\n",
       "      <td>80.000000</td>\n",
       "      <td>512.329200</td>\n",
       "      <td>10.000000</td>\n",
       "    </tr>\n",
       "  </tbody>\n",
       "</table>\n",
       "</div>"
      ],
      "text/plain": [
       "         Survived      Pclass         Sex         Age        Fare      Family\n",
       "count  668.000000  668.000000  668.000000  668.000000  668.000000  668.000000\n",
       "mean     0.386228    2.324850    0.356287   29.698204   32.790399    0.896707\n",
       "std      0.487249    0.829106    0.479260   13.862793   53.041537    1.633547\n",
       "min      0.000000    1.000000    0.000000    0.420000    0.000000    0.000000\n",
       "25%      0.000000    2.000000    0.000000   21.000000    7.925000    0.000000\n",
       "50%      0.000000    3.000000    0.000000   29.000000   14.427100    0.000000\n",
       "75%      1.000000    3.000000    1.000000   36.000000   30.500000    1.000000\n",
       "max      1.000000    3.000000    1.000000   80.000000  512.329200   10.000000"
      ]
     },
     "execution_count": 19,
     "metadata": {},
     "output_type": "execute_result"
    }
   ],
   "source": [
    "# Impute missing \"Age\" values using iterative imputation with Decision tree regressor\n",
    "contains_age = df_train[df_train.Age.notnull()]\n",
    "missing_age = df_train[df_train.Age.isnull()]\n",
    "\n",
    "imp = IterativeImputer(estimator=DecisionTreeRegressor(), random_state=123).fit(contains_age)\n",
    "missing_age = imp.transform(missing_age)\n",
    "df_train.loc[df_train.Age.isnull()] = missing_age\n",
    "df_train.describe()"
   ]
  },
  {
   "cell_type": "markdown",
   "metadata": {
    "id": "Dii8bEYApHMp"
   },
   "source": [
    "# Modeling and Question Answering:"
   ]
  },
  {
   "cell_type": "code",
   "execution_count": 20,
   "metadata": {
    "id": "ktQkXZ0ZXUGk"
   },
   "outputs": [],
   "source": [
    "# Create the \"Family\" feature that was created in the training set for the test set\n",
    "df_test[\"Family\"] = df_test[\"SibSp\"] + df_test[\"Parch\"]\n",
    "\n",
    "# Encode the sex values to 0/1, 0--> male, 1--> female\n",
    "df_test[\"Sex\"] = df_test[\"Sex\"].map({\"male\": 0, \"female\": 1})\n",
    "\n",
    "# Drop the same features in the test set that were dropped in the training set\n",
    "df_test = df_test.drop(columns=[\"Cabin\", \"Embarked\", \"Name\", \"PassengerId\", \"Ticket\", \"SibSp\", \"Parch\"])"
   ]
  },
  {
   "cell_type": "code",
   "execution_count": 21,
   "metadata": {
    "colab": {
     "base_uri": "https://localhost:8080/",
     "height": 300
    },
    "id": "uZ4dyIyoINs_",
    "outputId": "43ce47fb-f34a-4cc4-c078-47142aa34d94"
   },
   "outputs": [
    {
     "data": {
      "text/html": [
       "<div>\n",
       "<style scoped>\n",
       "    .dataframe tbody tr th:only-of-type {\n",
       "        vertical-align: middle;\n",
       "    }\n",
       "\n",
       "    .dataframe tbody tr th {\n",
       "        vertical-align: top;\n",
       "    }\n",
       "\n",
       "    .dataframe thead th {\n",
       "        text-align: right;\n",
       "    }\n",
       "</style>\n",
       "<table border=\"1\" class=\"dataframe\">\n",
       "  <thead>\n",
       "    <tr style=\"text-align: right;\">\n",
       "      <th></th>\n",
       "      <th>Survived</th>\n",
       "      <th>Pclass</th>\n",
       "      <th>Sex</th>\n",
       "      <th>Age</th>\n",
       "      <th>Fare</th>\n",
       "      <th>Family</th>\n",
       "    </tr>\n",
       "  </thead>\n",
       "  <tbody>\n",
       "    <tr>\n",
       "      <th>count</th>\n",
       "      <td>223.000000</td>\n",
       "      <td>223.000000</td>\n",
       "      <td>223.000000</td>\n",
       "      <td>223.000000</td>\n",
       "      <td>223.000000</td>\n",
       "      <td>223.000000</td>\n",
       "    </tr>\n",
       "    <tr>\n",
       "      <th>mean</th>\n",
       "      <td>0.376682</td>\n",
       "      <td>2.260090</td>\n",
       "      <td>0.340807</td>\n",
       "      <td>29.435284</td>\n",
       "      <td>30.448263</td>\n",
       "      <td>0.928251</td>\n",
       "    </tr>\n",
       "    <tr>\n",
       "      <th>std</th>\n",
       "      <td>0.485644</td>\n",
       "      <td>0.856651</td>\n",
       "      <td>0.475047</td>\n",
       "      <td>14.901339</td>\n",
       "      <td>37.986528</td>\n",
       "      <td>1.555073</td>\n",
       "    </tr>\n",
       "    <tr>\n",
       "      <th>min</th>\n",
       "      <td>0.000000</td>\n",
       "      <td>1.000000</td>\n",
       "      <td>0.000000</td>\n",
       "      <td>0.750000</td>\n",
       "      <td>0.000000</td>\n",
       "      <td>0.000000</td>\n",
       "    </tr>\n",
       "    <tr>\n",
       "      <th>25%</th>\n",
       "      <td>0.000000</td>\n",
       "      <td>1.000000</td>\n",
       "      <td>0.000000</td>\n",
       "      <td>20.000000</td>\n",
       "      <td>7.895800</td>\n",
       "      <td>0.000000</td>\n",
       "    </tr>\n",
       "    <tr>\n",
       "      <th>50%</th>\n",
       "      <td>0.000000</td>\n",
       "      <td>3.000000</td>\n",
       "      <td>0.000000</td>\n",
       "      <td>28.000000</td>\n",
       "      <td>15.741700</td>\n",
       "      <td>0.000000</td>\n",
       "    </tr>\n",
       "    <tr>\n",
       "      <th>75%</th>\n",
       "      <td>1.000000</td>\n",
       "      <td>3.000000</td>\n",
       "      <td>1.000000</td>\n",
       "      <td>39.500000</td>\n",
       "      <td>33.250000</td>\n",
       "      <td>1.000000</td>\n",
       "    </tr>\n",
       "    <tr>\n",
       "      <th>max</th>\n",
       "      <td>1.000000</td>\n",
       "      <td>3.000000</td>\n",
       "      <td>1.000000</td>\n",
       "      <td>71.000000</td>\n",
       "      <td>247.520800</td>\n",
       "      <td>7.000000</td>\n",
       "    </tr>\n",
       "  </tbody>\n",
       "</table>\n",
       "</div>"
      ],
      "text/plain": [
       "         Survived      Pclass         Sex         Age        Fare      Family\n",
       "count  223.000000  223.000000  223.000000  223.000000  223.000000  223.000000\n",
       "mean     0.376682    2.260090    0.340807   29.435284   30.448263    0.928251\n",
       "std      0.485644    0.856651    0.475047   14.901339   37.986528    1.555073\n",
       "min      0.000000    1.000000    0.000000    0.750000    0.000000    0.000000\n",
       "25%      0.000000    1.000000    0.000000   20.000000    7.895800    0.000000\n",
       "50%      0.000000    3.000000    0.000000   28.000000   15.741700    0.000000\n",
       "75%      1.000000    3.000000    1.000000   39.500000   33.250000    1.000000\n",
       "max      1.000000    3.000000    1.000000   71.000000  247.520800    7.000000"
      ]
     },
     "execution_count": 21,
     "metadata": {},
     "output_type": "execute_result"
    }
   ],
   "source": [
    "# Use the same iterative imputation model to fill null age data in the test set\n",
    "missing_age_test = imp.transform(df_test[df_test.Age.isnull()])\n",
    "df_test.loc[df_test.Age.isnull()] = missing_age_test\n",
    "df_test.describe()"
   ]
  },
  {
   "cell_type": "code",
   "execution_count": 22,
   "metadata": {
    "id": "y7s5KrnRQI-X"
   },
   "outputs": [],
   "source": [
    "# Split the data in X and y\n",
    "df_train_X = df_train.drop(columns=\"Survived\")\n",
    "df_train_y = df_train.Survived\n",
    "df_test_X = df_test.drop(columns=\"Survived\")\n",
    "df_test_y = df_test.Survived"
   ]
  },
  {
   "cell_type": "code",
   "execution_count": 23,
   "metadata": {
    "id": "MacCf_l6kAIF"
   },
   "outputs": [],
   "source": [
    "# Scale the features so they work better with the models\n",
    "scaler = StandardScaler().fit(df_train_X)\n",
    "feature_names = scaler.get_feature_names_out()\n",
    "df_train_X = pd.DataFrame(scaler.transform(df_train_X), columns=feature_names)\n",
    "df_test_X = pd.DataFrame(scaler.transform(df_test_X), columns=feature_names)"
   ]
  },
  {
   "cell_type": "markdown",
   "metadata": {
    "id": "zUfMO6tuJBqS"
   },
   "source": [
    "## 1. Regularized Logistic Regression\n",
    "\n",
    "Logistic regression is a classification algorithm -- which is a method to find the best decision boundary between two classes"
   ]
  },
  {
   "cell_type": "code",
   "execution_count": 24,
   "metadata": {
    "id": "up8Q4HwaYYO_"
   },
   "outputs": [],
   "source": [
    "# Perform a logistic regression on the dataset\n",
    "logistic_clf = LogisticRegression().fit(df_train_X, df_train_y)\n",
    "pred = logistic_clf.predict(df_test_X)"
   ]
  },
  {
   "cell_type": "code",
   "execution_count": 25,
   "metadata": {
    "colab": {
     "base_uri": "https://localhost:8080/"
    },
    "id": "L8H03JD-zWVi",
    "outputId": "449665b9-866f-466a-9746-e2d698f04f19"
   },
   "outputs": [
    {
     "name": "stdout",
     "output_type": "stream",
     "text": [
      "Accuracy: 0.7937219730941704\n",
      "Precision: 0.7435897435897436\n",
      "Recall: 0.6904761904761905\n",
      "F-Score: 0.7160493827160495\n"
     ]
    }
   ],
   "source": [
    "# Evaluation metrics for the logistic regression model\n",
    "accuracy = logistic_clf.score(df_test_X, df_test_y)\n",
    "precision, recall, f1, _ = precision_recall_fscore_support(df_test_y, pred, average=\"binary\")\n",
    "print(f\"Accuracy: {accuracy}\\nPrecision: {precision}\\nRecall: {recall}\\nF-Score: {f1}\")"
   ]
  },
  {
   "cell_type": "markdown",
   "metadata": {},
   "source": [
    "## 1a. Regularized Logistic Regression with CV"
   ]
  },
  {
   "cell_type": "code",
   "execution_count": 26,
   "metadata": {},
   "outputs": [
    {
     "data": {
      "text/plain": [
       "[<matplotlib.lines.Line2D at 0x2b6799a6fd0>]"
      ]
     },
     "execution_count": 26,
     "metadata": {},
     "output_type": "execute_result"
    },
    {
     "data": {
      "image/png": "[encoded data removed]",
      "text/plain": [
       "<Figure size 432x288 with 1 Axes>"
      ]
     },
     "metadata": {
      "needs_background": "light"
     },
     "output_type": "display_data"
    }
   ],
   "source": [
    "# Find the optimal value of C for logisitic regression using CV with F1 scoring\n",
    "c_vals = np.linspace(0.05, 2, 40)\n",
    "f1_vals = []\n",
    "cv = StratifiedKFold(n_splits=10, shuffle=True, random_state=123)\n",
    "for c in c_vals:\n",
    "    logistic_clf = LogisticRegression(C=c).fit(df_train_X, df_train_y)\n",
    "    f1 = cross_val_score(logistic_clf, df_train_X, df_train_y, scoring=\"f1\", cv=cv)\n",
    "    f1_vals.append(f1.mean())\n",
    "plt.title(\"C vs F1\")\n",
    "plt.xlabel(\"C\")\n",
    "plt.ylabel(\"F1\")\n",
    "plt.plot(c_vals, f1_vals)    "
   ]
  },
  {
   "cell_type": "code",
   "execution_count": 27,
   "metadata": {},
   "outputs": [
    {
     "data": {
      "text/plain": [
       "[<matplotlib.lines.Line2D at 0x2b679a21c70>]"
      ]
     },
     "execution_count": 27,
     "metadata": {},
     "output_type": "execute_result"
    },
    {
     "data": {
      "image/png": "[encoded data removed]",
      "text/plain": [
       "<Figure size 432x288 with 1 Axes>"
      ]
     },
     "metadata": {
      "needs_background": "light"
     },
     "output_type": "display_data"
    }
   ],
   "source": [
    "# Find the optimal value of C for logisitic regression using CV with accuracy scoring\n",
    "c_vals = np.linspace(0.05, 2, 40)\n",
    "f1_vals = []\n",
    "for c in c_vals:\n",
    "    logistic_clf = LogisticRegression(C=c).fit(df_train_X, df_train_y)\n",
    "    f1 = cross_val_score(logistic_clf, df_train_X, df_train_y, scoring=\"accuracy\", cv=cv)\n",
    "    f1_vals.append(f1.mean())\n",
    "plt.title(\"C vs Accuracy\")\n",
    "plt.xlabel(\"C\")\n",
    "plt.ylabel(\"Accuracy\")\n",
    "plt.plot(c_vals, f1_vals)    "
   ]
  },
  {
   "cell_type": "markdown",
   "metadata": {},
   "source": [
    "Using CV, we find that an optimal value of C (inverse of lambda -- the regularization parameter) is 0.3."
   ]
  },
  {
   "cell_type": "code",
   "execution_count": 28,
   "metadata": {},
   "outputs": [
    {
     "name": "stdout",
     "output_type": "stream",
     "text": [
      "Accuracy: 0.7937219730941704\n",
      "Precision: 0.7435897435897436\n",
      "Recall: 0.6904761904761905\n",
      "F-Score: 0.7160493827160495\n"
     ]
    }
   ],
   "source": [
    "# Perform logistic regression with C=0.3\n",
    "logistic_clf = LogisticRegression(C=0.3).fit(df_train_X, df_train_y)\n",
    "pred = logistic_clf.predict(df_test_X)\n",
    "accuracy = logistic_clf.score(df_test_X, df_test_y)\n",
    "precision, recall, f1, _ = precision_recall_fscore_support(df_test_y, pred, average=\"binary\")\n",
    "print(f\"Accuracy: {accuracy}\\nPrecision: {precision}\\nRecall: {recall}\\nF-Score: {f1}\")"
   ]
  },
  {
   "cell_type": "markdown",
   "metadata": {},
   "source": [
    "No change in the metrics after using the optimal hyperparameter, C, obtained from CV"
   ]
  },
  {
   "cell_type": "markdown",
   "metadata": {
    "id": "dZHIPqKK3rTd"
   },
   "source": [
    "## 2. K-Nearest Neighbors\n",
    "\n",
    "An observation is classified by the most common class among its k nearest neighbors"
   ]
  },
  {
   "cell_type": "code",
   "execution_count": 29,
   "metadata": {
    "id": "Ca2IUtHC35bF"
   },
   "outputs": [],
   "source": [
    "# Implement a k nearest neighbors vote on the data\n",
    "knn = KNeighborsClassifier().fit(df_train_X, df_train_y)\n",
    "pred = knn.predict(df_test_X)"
   ]
  },
  {
   "cell_type": "code",
   "execution_count": 30,
   "metadata": {
    "colab": {
     "base_uri": "https://localhost:8080/"
    },
    "id": "XJIN9AJi4bXw",
    "outputId": "67faf58e-16c3-48dd-d524-56aa2fdb84d3"
   },
   "outputs": [
    {
     "name": "stdout",
     "output_type": "stream",
     "text": [
      "Accuracy: 0.8609865470852018\n",
      "Precision: 0.8441558441558441\n",
      "Recall: 0.7738095238095238\n",
      "F-Score: 0.8074534161490684\n"
     ]
    }
   ],
   "source": [
    "# Evaluation metrics for the k nearest neighbors vote\n",
    "accuracy = knn.score(df_test_X, df_test_y)\n",
    "precision, recall, f1, _ = precision_recall_fscore_support(df_test_y, pred, average=\"binary\")\n",
    "print(f\"Accuracy: {accuracy}\\nPrecision: {precision}\\nRecall: {recall}\\nF-Score: {f1}\")"
   ]
  },
  {
   "cell_type": "markdown",
   "metadata": {},
   "source": [
    "## 2a. KNN with CV"
   ]
  },
  {
   "cell_type": "code",
   "execution_count": 31,
   "metadata": {},
   "outputs": [
    {
     "data": {
      "text/plain": [
       "[<matplotlib.lines.Line2D at 0x2b679a7b8b0>]"
      ]
     },
     "execution_count": 31,
     "metadata": {},
     "output_type": "execute_result"
    },
    {
     "data": {
      "image/png": "[encoded data removed]",
      "text/plain": [
       "<Figure size 432x288 with 1 Axes>"
      ]
     },
     "metadata": {
      "needs_background": "light"
     },
     "output_type": "display_data"
    }
   ],
   "source": [
    "# Find the optimal K for KNN using CV using F1 scoring\n",
    "k_vals = [i for i in range(1, 26)]\n",
    "f1_vals = []\n",
    "for k in k_vals:\n",
    "    knn = KNeighborsClassifier(n_neighbors=k).fit(df_train_X, df_train_y)\n",
    "    f1 = cross_val_score(knn, df_train_X, df_train_y, scoring=\"f1\", cv=cv)\n",
    "    f1_vals.append(f1.mean())\n",
    "plt.title(\"K vs F1\")\n",
    "plt.xlabel(\"K\")\n",
    "plt.ylabel(\"F1\")\n",
    "plt.plot(k_vals, f1_vals)"
   ]
  },
  {
   "cell_type": "code",
   "execution_count": 32,
   "metadata": {},
   "outputs": [
    {
     "data": {
      "text/plain": [
       "[<matplotlib.lines.Line2D at 0x2b679ace880>]"
      ]
     },
     "execution_count": 32,
     "metadata": {},
     "output_type": "execute_result"
    },
    {
     "data": {
      "image/png": "[encoded data removed]",
      "text/plain": [
       "<Figure size 432x288 with 1 Axes>"
      ]
     },
     "metadata": {
      "needs_background": "light"
     },
     "output_type": "display_data"
    }
   ],
   "source": [
    "# Find the optimal K for KNN using CV using accuracy scoring\n",
    "k_vals = [i for i in range(1, 26)]\n",
    "f1_vals = []\n",
    "for k in k_vals:\n",
    "    knn = KNeighborsClassifier(n_neighbors=k).fit(df_train_X, df_train_y)\n",
    "    f1 = cross_val_score(knn, df_train_X, df_train_y, scoring=\"accuracy\", cv=cv)\n",
    "    f1_vals.append(f1.mean())\n",
    "plt.title(\"K vs Accuracy\")\n",
    "plt.xlabel(\"K\")\n",
    "plt.ylabel(\"Accuracy\")\n",
    "plt.plot(k_vals, f1_vals)"
   ]
  },
  {
   "cell_type": "markdown",
   "metadata": {},
   "source": [
    "Using CV, we find that K=5 maximizes F1 score, while a lower value of K=2 maximizes accuracy"
   ]
  },
  {
   "cell_type": "code",
   "execution_count": 33,
   "metadata": {},
   "outputs": [
    {
     "name": "stdout",
     "output_type": "stream",
     "text": [
      "KNN with K=2\n",
      "Accuracy: 0.8026905829596412\n",
      "Precision: 0.8225806451612904\n",
      "Recall: 0.6071428571428571\n",
      "F-Score: 0.6986301369863014\n",
      "\n",
      "KNN with K=5\n",
      "Accuracy: 0.8609865470852018\n",
      "Precision: 0.8441558441558441\n",
      "Recall: 0.7738095238095238\n",
      "F-Score: 0.8074534161490684\n"
     ]
    }
   ],
   "source": [
    "# Perform KNN vote with K=2\n",
    "knn = KNeighborsClassifier(n_neighbors=2).fit(df_train_X, df_train_y)\n",
    "pred = knn.predict(df_test_X)\n",
    "accuracy = knn.score(df_test_X, df_test_y)\n",
    "precision, recall, f1, _ = precision_recall_fscore_support(df_test_y, pred, average=\"binary\")\n",
    "print(f\"KNN with K=2\\nAccuracy: {accuracy}\\nPrecision: {precision}\\nRecall: {recall}\\nF-Score: {f1}\\n\")\n",
    "\n",
    "# Perform KNN vote with K=5\n",
    "knn = KNeighborsClassifier(n_neighbors=5).fit(df_train_X, df_train_y)\n",
    "pred = knn.predict(df_test_X)\n",
    "accuracy = knn.score(df_test_X, df_test_y)\n",
    "precision, recall, f1, _ = precision_recall_fscore_support(df_test_y, pred, average=\"binary\")\n",
    "print(f\"KNN with K=5\\nAccuracy: {accuracy}\\nPrecision: {precision}\\nRecall: {recall}\\nF-Score: {f1}\")"
   ]
  },
  {
   "cell_type": "markdown",
   "metadata": {},
   "source": [
    "We find that using CV to tune K yields a poorer performance by the model compared to the baseline of K=5. "
   ]
  },
  {
   "cell_type": "markdown",
   "metadata": {
    "id": "ZUFGl1Y-4mrZ"
   },
   "source": [
    "## 3. Multilayer Perceptron\n",
    "\n",
    "A perceptron takes a weighted sum of the inputs, applies a function to the weighted sum, and returns an output. An MLP contains multiple layers of perceptrons: the input layer, hidden layers, and output layer."
   ]
  },
  {
   "cell_type": "code",
   "execution_count": 34,
   "metadata": {
    "id": "rUOn6o8C5Jlb"
   },
   "outputs": [],
   "source": [
    "# Implement a multi-layer perceptron on the data\n",
    "mlp_clf = MLPClassifier(solver=\"lbfgs\", hidden_layer_sizes=(8,), random_state=123, max_iter=800).fit(df_train_X, df_train_y)\n",
    "pred = mlp_clf.predict(df_test_X)"
   ]
  },
  {
   "cell_type": "code",
   "execution_count": 35,
   "metadata": {
    "colab": {
     "base_uri": "https://localhost:8080/"
    },
    "id": "E6JezMxB5ieg",
    "outputId": "1572a9ec-f604-492f-bcbc-7058b3659ec9"
   },
   "outputs": [
    {
     "name": "stdout",
     "output_type": "stream",
     "text": [
      "Accuracy: 0.8385650224215246\n",
      "Precision: 0.8\n",
      "Recall: 0.7619047619047619\n",
      "F-Score: 0.7804878048780488\n"
     ]
    }
   ],
   "source": [
    "# Evaluation metrics for the MLP model\n",
    "accuracy = mlp_clf.score(df_test_X, df_test_y)\n",
    "precision, recall, f1, _ = precision_recall_fscore_support(df_test_y, pred, average=\"binary\")\n",
    "print(f\"Accuracy: {accuracy}\\nPrecision: {precision}\\nRecall: {recall}\\nF-Score: {f1}\")"
   ]
  },
  {
   "cell_type": "markdown",
   "metadata": {},
   "source": [
    "The KNN model performed the best in all metrics, while the regularized logistic regression model performed the worst in all metrics."
   ]
  },
  {
   "cell_type": "markdown",
   "metadata": {},
   "source": [
    "## 3a. MLP with CV"
   ]
  },
  {
   "cell_type": "code",
   "execution_count": 36,
   "metadata": {},
   "outputs": [
    {
     "name": "stdout",
     "output_type": "stream",
     "text": [
      "Best parameters:\n",
      "{'alpha': 0.4349118552081964, 'hidden_layer_sizes': (14,)}\n"
     ]
    }
   ],
   "source": [
    "# Find the optimal alpha (regularization term) and optimal number of neurons in first hidden layer\n",
    "mlp_clf = MLPClassifier(solver=\"lbfgs\", random_state=123, max_iter=1000)\n",
    "parameter_space = {\n",
    "    \"hidden_layer_sizes\": [(i,) for i in range(2, 16)],\n",
    "    \"alpha\": np.geomspace(0.00001, 2, 25),\n",
    "}\n",
    "clf = GridSearchCV(mlp_clf, parameter_space, cv=cv, n_jobs=-1, scoring=\"f1\")\n",
    "clf.fit(df_train_X, df_train_y)\n",
    "\n",
    "print(f\"Best parameters:\\n{clf.best_params_}\")"
   ]
  },
  {
   "cell_type": "code",
   "execution_count": 37,
   "metadata": {},
   "outputs": [
    {
     "name": "stdout",
     "output_type": "stream",
     "text": [
      "Accuracy: 0.8430493273542601\n",
      "Precision: 0.810126582278481\n",
      "Recall: 0.7619047619047619\n",
      "F-Score: 0.7852760736196319\n"
     ]
    }
   ],
   "source": [
    "mlp_clf = MLPClassifier(solver=\"lbfgs\", hidden_layer_sizes=clf.best_params_[\"hidden_layer_sizes\"], alpha=clf.best_params_[\"alpha\"], random_state=123, max_iter=1000).fit(df_train_X, df_train_y)\n",
    "pred = mlp_clf.predict(df_test_X)\n",
    "accuracy = mlp_clf.score(df_test_X, df_test_y)\n",
    "precision, recall, f1, _ = precision_recall_fscore_support(df_test_y, pred, average=\"binary\")\n",
    "print(f\"Accuracy: {accuracy}\\nPrecision: {precision}\\nRecall: {recall}\\nF-Score: {f1}\")"
   ]
  },
  {
   "cell_type": "markdown",
   "metadata": {},
   "source": [
    "MLP with CV tended to perform better in all metrics by a few percentage points."
   ]
  }
 ],
 "metadata": {
  "colab": {
   "collapsed_sections": [],
   "name": "cse351 project",
   "provenance": []
  },
  "kernelspec": {
   "display_name": "Python 3 (ipykernel)",
   "language": "python",
   "name": "python3"
  },
  "language_info": {
   "codemirror_mode": {
    "name": "ipython",
    "version": 3
   },
   "file_extension": ".py",
   "mimetype": "text/x-python",
   "name": "python",
   "nbconvert_exporter": "python",
   "pygments_lexer": "ipython3",
   "version": "3.9.12"
  }
 },
 "nbformat": 4,
 "nbformat_minor": 1
}
